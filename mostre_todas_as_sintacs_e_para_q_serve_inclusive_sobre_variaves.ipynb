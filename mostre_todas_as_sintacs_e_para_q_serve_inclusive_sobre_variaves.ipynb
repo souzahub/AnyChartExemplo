{
  "cells": [
    {
      "cell_type": "markdown",
      "metadata": {
        "id": "view-in-github",
        "colab_type": "text"
      },
      "source": [
        "<a href=\"https://colab.research.google.com/github/souzahub/AnyChartExemplo/blob/main/mostre_todas_as_sintacs_e_para_q_serve_inclusive_sobre_variaves.ipynb\" target=\"_parent\"><img src=\"https://colab.research.google.com/assets/colab-badge.svg\" alt=\"Open In Colab\"/></a>"
      ]
    },
    {
      "cell_type": "markdown",
      "source": [
        "**Sintaxes de Python**\n",
        "\n",
        "**Comandos de atribuição**\n",
        "\n",
        "Os comandos de atribuição são usados para armazenar valores em variáveis. A sintaxe básica é a seguinte:"
      ],
      "metadata": {
        "id": "qmvO2wTYl73B"
      }
    },
    {
      "cell_type": "code",
      "source": [
        "variável = valor"
      ],
      "outputs": [],
      "execution_count": null,
      "metadata": {
        "id": "UIW85yosl73H"
      }
    },
    {
      "cell_type": "markdown",
      "source": [
        "Onde:\n",
        "\n",
        "* `variável` é o nome da variável.\n",
        "* `valor` é o valor que será armazenado na variável.\n",
        "\n",
        "Por exemplo:"
      ],
      "metadata": {
        "id": "eYgM5YUCl73J"
      }
    },
    {
      "cell_type": "code",
      "source": [
        "nome = \"João\"\n",
        "idade = 30\n",
        "salario = 10000"
      ],
      "outputs": [],
      "execution_count": null,
      "metadata": {
        "id": "eZPBDM1Rl73K"
      }
    },
    {
      "cell_type": "markdown",
      "source": [
        "**Comandos de controle de fluxo**\n",
        "\n",
        "Os comandos de controle de fluxo permitem que você controle o fluxo de execução de seu programa. Os comandos mais comuns são:\n",
        "\n",
        "* **if-else:** testa uma condição e executa um bloco de código se a condição for verdadeira, ou outro bloco de código se a condição for falsa."
      ],
      "metadata": {
        "id": "LLzJEB7Fl73L"
      }
    },
    {
      "cell_type": "code",
      "source": [
        "idade = int(input(\"Qual sua idade? \"))\n",
        "\n",
        "if idade >= 18:\n",
        "    print(\"Você é maior de idade.\")\n",
        "else:\n",
        "    print(\"Você é menor de idade.\")"
      ],
      "outputs": [],
      "execution_count": null,
      "metadata": {
        "id": "-c7PogGLl73L"
      }
    },
    {
      "cell_type": "markdown",
      "source": [
        "# Nova seção"
      ],
      "metadata": {
        "id": "--nWZNI58-UE"
      }
    },
    {
      "cell_type": "markdown",
      "source": [
        "* **for:** executa um bloco de código repetidamente, até que uma condição seja satisfeita."
      ],
      "metadata": {
        "id": "9bxjyXv7l73L"
      }
    },
    {
      "cell_type": "code",
      "source": [
        "for i in range(1, 10):\n",
        "    print(i)"
      ],
      "outputs": [],
      "execution_count": null,
      "metadata": {
        "id": "jAA6D1Jkl73M"
      }
    },
    {
      "cell_type": "markdown",
      "source": [
        "* **while:** executa um bloco de código repetidamente, enquanto uma condição for verdadeira."
      ],
      "metadata": {
        "id": "2Vsm9gPSl73M"
      }
    },
    {
      "cell_type": "code",
      "source": [
        "numero = 1\n",
        "\n",
        "while numero <= 10:\n",
        "    print(numero)\n",
        "    numero += 1"
      ],
      "outputs": [],
      "execution_count": null,
      "metadata": {
        "id": "LO9LMG96l73M"
      }
    },
    {
      "cell_type": "markdown",
      "source": [
        "* **break:** interrompe a execução de um loop."
      ],
      "metadata": {
        "id": "NtWtwmftl73N"
      }
    },
    {
      "cell_type": "code",
      "source": [
        "for i in range(1, 100):\n",
        "    if i == 50:\n",
        "        break\n",
        "    print(i)"
      ],
      "outputs": [],
      "execution_count": null,
      "metadata": {
        "id": "is1ZK0jKl73N"
      }
    },
    {
      "cell_type": "markdown",
      "source": [
        "* **continue:** pula para a próxima iteração de um loop."
      ],
      "metadata": {
        "id": "c3RO-DE7l73N"
      }
    },
    {
      "cell_type": "code",
      "source": [
        "for i in range(1, 100):\n",
        "    if i % 2 == 0:\n",
        "        continue\n",
        "    print(i)"
      ],
      "outputs": [],
      "execution_count": null,
      "metadata": {
        "id": "xVuK__b9l73N"
      }
    },
    {
      "cell_type": "markdown",
      "source": [
        "**Comandos de entrada e saída**\n",
        "\n",
        "Os comandos de entrada e saída permitem que você interaja com o usuário e com o sistema operacional. Os comandos mais comuns são:\n",
        "\n",
        "* **input:** lê uma entrada do usuário."
      ],
      "metadata": {
        "id": "1eQJND7sl73N"
      }
    },
    {
      "cell_type": "code",
      "source": [
        "nome = input(\"Qual seu nome? \")\n",
        "\n",
        "print(\"Olá,\", nome, \"!\")"
      ],
      "outputs": [],
      "execution_count": null,
      "metadata": {
        "id": "d1F9VDqjl73N"
      }
    },
    {
      "cell_type": "markdown",
      "source": [
        "* **print:** imprime uma saída no console."
      ],
      "metadata": {
        "id": "J36TlMjbl73O"
      }
    },
    {
      "cell_type": "code",
      "source": [
        "print(\"Olá, mundo!\")"
      ],
      "outputs": [],
      "execution_count": null,
      "metadata": {
        "id": "fLrJq9ZBl73O"
      }
    },
    {
      "cell_type": "markdown",
      "source": [
        "**Comandos de funções**\n",
        "\n",
        "As funções são blocos de código que podem ser reutilizados. A sintaxe básica para declarar uma função é a seguinte:"
      ],
      "metadata": {
        "id": "JepD1gT8l73O"
      }
    },
    {
      "cell_type": "code",
      "source": [
        "def nome_da_funcao(argumentos):\n",
        "    bloco_de_codigo"
      ],
      "outputs": [],
      "execution_count": 38,
      "metadata": {
        "id": "Gitjz0d5l73O"
      }
    },
    {
      "cell_type": "markdown",
      "source": [
        "Onde:\n",
        "\n",
        "* `nome_da_funcao` é o nome da função.\n",
        "* `argumentos` são os parâmetros da função.\n",
        "* `bloco_de_codigo` é o código que será executado pela função.\n",
        "\n",
        "Por exemplo:"
      ],
      "metadata": {
        "id": "D7kQ_n3_l73O"
      }
    },
    {
      "cell_type": "code",
      "source": [
        "def soma(numero1, numero2):\n",
        "    return numero1 + numero2\n",
        "\n",
        "soma = soma(10, 20)\n",
        "print(soma)"
      ],
      "outputs": [],
      "execution_count": null,
      "metadata": {
        "id": "xCFIPdV2l73O"
      }
    },
    {
      "cell_type": "markdown",
      "source": [
        "**Comandos de módulos**\n",
        "\n",
        "Os módulos são arquivos que contêm código Python. A sintaxe básica para importar um módulo é a seguinte:"
      ],
      "metadata": {
        "id": "9JDs7WWVl73O"
      }
    },
    {
      "cell_type": "code",
      "source": [
        "import modulo"
      ],
      "outputs": [],
      "execution_count": null,
      "metadata": {
        "id": "inxb2AKbl73P"
      }
    },
    {
      "cell_type": "markdown",
      "source": [
        "Por exemplo:"
      ],
      "metadata": {
        "id": "wZB6EY0hl73P"
      }
    },
    {
      "cell_type": "code",
      "source": [
        "import math\n",
        "\n",
        "pi = math.pi\n",
        "\n",
        "print(pi)"
      ],
      "outputs": [],
      "execution_count": null,
      "metadata": {
        "id": "BrnS662bl73P"
      }
    },
    {
      "cell_type": "markdown",
      "source": [
        "**Comandos de classes**\n",
        "\n",
        "As classes são uma forma de organizar código e dados em objetos. A sintaxe básica para declarar uma classe é a seguinte:"
      ],
      "metadata": {
        "id": "Y4YOdr_Al73P"
      }
    },
    {
      "cell_type": "code",
      "source": [
        "class NomeDaClasse:\n",
        "    def __init__(self, argumentos):\n",
        "        bloco_de_codigo"
      ],
      "outputs": [],
      "execution_count": 23,
      "metadata": {
        "id": "04RhdH96l73P"
      }
    },
    {
      "cell_type": "markdown",
      "source": [
        "Onde:\n",
        "\n",
        "* `NomeDaClasse` é o nome da classe.\n",
        "* `argumentos` são os parâmetros da classe.\n",
        "* `bloco_de_codigo` é o código que será executado quando um objeto da classe for criado.\n",
        "\n",
        "Por exemplo:"
      ],
      "metadata": {
        "id": "f78zHfkbl73P"
      }
    },
    {
      "cell_type": "code",
      "source": [
        "class Pessoa:\n",
        "    def __init__(self, nome, idade):\n",
        "        self.nome = nome\n",
        "        self.idade = idade\n",
        "\n",
        "    def falar(self):\n",
        "        print(\"Olá, meu nome é\", self.nome)\n",
        "        print(\"Idade\", self.idade)\n",
        "\n",
        "pessoa = Pessoa(\"João\", 30)\n",
        "pessoa.falar()"
      ],
      "outputs": [],
      "execution_count": null,
      "metadata": {
        "id": "1oBQXOr8l73P"
      }
    },
    {
      "cell_type": "code",
      "source": [
        "import random\n",
        "\n",
        "cores = [\"azul\", \"vermelho\", \"verde\", \"amarelo\", \"preto\", \"branco\"]\n",
        "marcas = [\"Nike\", \"Adidas\", \"Puma\", \"Under Armour\", \"Reebok\", \"Fila\"]\n",
        "\n",
        "for i in range(5):\n",
        "  cor = random.choice(cores)\n",
        "  marca = random.choice(marcas)\n",
        "\n",
        "  print(\"A cor é\", cor, \"e a marca é\", marca)\n"
      ],
      "metadata": {
        "id": "pS5ErjD8RxtM"
      },
      "execution_count": null,
      "outputs": []
    },
    {
      "cell_type": "code",
      "source": [
        "import random\n",
        "\n",
        "for i in range(2):\n",
        "  numero = random.randint(1, 1000)\n",
        "  print(numero)"
      ],
      "metadata": {
        "colab": {
          "base_uri": "https://localhost:8080/"
        },
        "id": "Ru9eUMdDTPKm",
        "outputId": "bb96ae97-c448-4913-ca26-5709ac6f138a"
      },
      "execution_count": 132,
      "outputs": [
        {
          "output_type": "stream",
          "name": "stdout",
          "text": [
            "75\n",
            "899\n"
          ]
        }
      ]
    },
    {
      "cell_type": "code",
      "source": [
        "# Classe para exibir a marca do Carro\n",
        "\n",
        "# 1 – Chevrolet – 264.238 vendas. ...\n",
        "# 2 – Fiat – 244.323 vendas. ...\n",
        "# 3 – Volkswagen – 239.668 vendas. ...\n",
        "# 4 – Hyundai – 187.162 vendas. ...\n",
        "# 5 – Toyota – 142.664 vendas. ...\n",
        "# 6 – Jeep – 137.410 vendas. ...\n",
        "# 7 – Renault – 104.288 vendas. ...\n",
        "# 8 – Honda – 56.689 vendas.\n",
        "\n",
        "import random\n",
        "\n",
        "vmarca = [\"Chevrolet\",\"Fiat\",\"Volkswagen\",\"Hyundai\",\"Toyota\",\"Jeep\",\"Renault\",\"Honda\"]\n",
        "vcor   = [\"azul\", \"vermelho\", \"verde\", \"amarelo\", \"preto\", \"branco\"]\n",
        "vano   = 2008\n",
        "\n",
        "xmarca = random.choice(vmarca)\n",
        "xcor = random.choice(vcor)\n",
        "\n",
        "\n",
        "class Marca:\n",
        "  def __init__(self, nomeM, anoM):\n",
        "        self.nomeM = nomeM\n",
        "        self.anoM = anoM\n",
        "\n",
        "  def exibirMarca(self):\n",
        "      print(\"Informações do Carro!\")\n",
        "      print(\"Nome: \", self.nomeM)\n",
        "      print(\"Ano : \", self.anoM)\n",
        "\n",
        "\n",
        "# Classe para exibir a Cor do Carro\n",
        "class Cor:\n",
        "  def __init__(self, nomeC):\n",
        "        self.nomeC = nomeC\n",
        "\n",
        "  def exibirCor(self):\n",
        "      print(\"Cor : \", self.nomeC)\n",
        "\n",
        "\n",
        "# ----------------------------------------\n",
        " # Exibe Marca\n",
        "  Marca = Marca(xmarca, vano)\n",
        "  Marca.exibirMarca()\n",
        "\n",
        " # Exibe a cor\n",
        "  Cor = Cor(xcor)\n",
        "  Cor.exibirCor()\n"
      ],
      "metadata": {
        "id": "euKopHta9WXs",
        "colab": {
          "base_uri": "https://localhost:8080/"
        },
        "outputId": "acfcfce7-bfc2-46e5-f8e4-980409fe338a"
      },
      "execution_count": 134,
      "outputs": [
        {
          "output_type": "stream",
          "name": "stdout",
          "text": [
            "Informações do Carro!\n",
            "Nome:  Honda\n",
            "Ano :  2008\n",
            "Cor :  preto\n"
          ]
        }
      ]
    }
  ],
  "metadata": {
    "colab": {
      "provenance": [],
      "include_colab_link": true
    },
    "kernelspec": {
      "display_name": "Python 3",
      "name": "python3"
    }
  },
  "nbformat": 4,
  "nbformat_minor": 0
}